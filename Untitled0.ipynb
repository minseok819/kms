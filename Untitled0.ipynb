{
  "nbformat": 4,
  "nbformat_minor": 0,
  "metadata": {
    "colab": {
      "name": "Untitled0.ipynb",
      "provenance": [],
      "collapsed_sections": [],
      "authorship_tag": "ABX9TyNJ2siTyIpUmsbmrT7MGb07",
      "include_colab_link": true
    },
    "kernelspec": {
      "name": "python3",
      "display_name": "Python 3"
    },
    "language_info": {
      "name": "python"
    }
  },
  "cells": [
    {
      "cell_type": "markdown",
      "metadata": {
        "id": "view-in-github",
        "colab_type": "text"
      },
      "source": [
        "<a href=\"https://colab.research.google.com/github/minseok819/kms/blob/main/Untitled0.ipynb\" target=\"_parent\"><img src=\"https://colab.research.google.com/assets/colab-badge.svg\" alt=\"Open In Colab\"/></a>"
      ]
    },
    {
      "cell_type": "code",
      "execution_count": 2,
      "metadata": {
        "colab": {
          "base_uri": "https://localhost:8080/"
        },
        "id": "7OicR_QPidjl",
        "outputId": "290969e2-62f6-4212-8c4e-4fd586cdf8c5"
      },
      "outputs": [
        {
          "output_type": "stream",
          "name": "stdout",
          "text": [
            "Hello World\n"
          ]
        }
      ],
      "source": [
        "print(\"Hello World\")"
      ]
    },
    {
      "cell_type": "code",
      "source": [
        "print('Hello World')"
      ],
      "metadata": {
        "colab": {
          "base_uri": "https://localhost:8080/"
        },
        "id": "2ZDcOVXPjo5W",
        "outputId": "4f685458-b6c4-4ddb-832f-a2fb2161c79a"
      },
      "execution_count": 3,
      "outputs": [
        {
          "output_type": "stream",
          "name": "stdout",
          "text": [
            "Hello World\n"
          ]
        }
      ]
    },
    {
      "cell_type": "code",
      "source": [
        "print(1+2)"
      ],
      "metadata": {
        "colab": {
          "base_uri": "https://localhost:8080/"
        },
        "id": "ZJDkrxPKj2Ne",
        "outputId": "21a5f640-1d7f-41fb-fb36-221617ab4af2"
      },
      "execution_count": 4,
      "outputs": [
        {
          "output_type": "stream",
          "name": "stdout",
          "text": [
            "3\n"
          ]
        }
      ]
    },
    {
      "cell_type": "code",
      "source": [
        "print(2*3)"
      ],
      "metadata": {
        "colab": {
          "base_uri": "https://localhost:8080/"
        },
        "id": "dqVTFjgej7h3",
        "outputId": "e59df217-6f78-4cf8-fc13-f2accdf0aadb"
      },
      "execution_count": 6,
      "outputs": [
        {
          "output_type": "stream",
          "name": "stdout",
          "text": [
            "6\n"
          ]
        }
      ]
    },
    {
      "cell_type": "code",
      "source": [
        "print(True)"
      ],
      "metadata": {
        "colab": {
          "base_uri": "https://localhost:8080/"
        },
        "id": "QFplWEp8lz5r",
        "outputId": "d721c265-1beb-4941-d50c-21392cbbd70a"
      },
      "execution_count": 9,
      "outputs": [
        {
          "output_type": "stream",
          "name": "stdout",
          "text": [
            "True\n"
          ]
        }
      ]
    },
    {
      "cell_type": "code",
      "source": [
        "print(False)"
      ],
      "metadata": {
        "colab": {
          "base_uri": "https://localhost:8080/"
        },
        "id": "4mRY4kKpl596",
        "outputId": "7e9679e4-44de-414a-c561-28109f8ce8f9"
      },
      "execution_count": 11,
      "outputs": [
        {
          "output_type": "stream",
          "name": "stdout",
          "text": [
            "False\n"
          ]
        }
      ]
    },
    {
      "cell_type": "code",
      "source": [
        "a = 3\n",
        "b = 4\n",
        "c = a + b\n",
        "print(c); print(a); print(b)"
      ],
      "metadata": {
        "colab": {
          "base_uri": "https://localhost:8080/"
        },
        "id": "mHjonhHlmHDE",
        "outputId": "ea9552e2-0e14-43f2-c208-61121c854c74"
      },
      "execution_count": 14,
      "outputs": [
        {
          "output_type": "stream",
          "name": "stdout",
          "text": [
            "7\n",
            "3\n",
            "4\n"
          ]
        }
      ]
    },
    {
      "cell_type": "code",
      "source": [
        "a = \"안녕하세요\"\n",
        "b = \"반갑습니다\"\n",
        "c = a + b;\n",
        "print(c)"
      ],
      "metadata": {
        "colab": {
          "base_uri": "https://localhost:8080/"
        },
        "id": "-M1J2rqYmURd",
        "outputId": "9b7bdf2b-dde5-4a60-8106-b88313a78283"
      },
      "execution_count": 15,
      "outputs": [
        {
          "output_type": "stream",
          "name": "stdout",
          "text": [
            "안녕하세요반갑습니다\n"
          ]
        }
      ]
    },
    {
      "cell_type": "code",
      "source": [
        "a = \"안녕하세요.\"\n",
        "b = a * 10 \n",
        "print(b)"
      ],
      "metadata": {
        "colab": {
          "base_uri": "https://localhost:8080/"
        },
        "id": "KoX_T6xGm-Eo",
        "outputId": "f369063f-ebe1-442c-9053-66680ee2b9ca"
      },
      "execution_count": 17,
      "outputs": [
        {
          "output_type": "stream",
          "name": "stdout",
          "text": [
            "안녕하세요.안녕하세요.안녕하세요.안녕하세요.안녕하세요.안녕하세요.안녕하세요.안녕하세요.안녕하세요.안녕하세요.\n"
          ]
        }
      ]
    },
    {
      "cell_type": "code",
      "source": [
        "print(\"###############\")\n",
        "print(\"#\" * 15)"
      ],
      "metadata": {
        "colab": {
          "base_uri": "https://localhost:8080/"
        },
        "id": "frbqeDq4nKKa",
        "outputId": "4b21c7b9-b983-4c57-f9bf-b8fb77043d86"
      },
      "execution_count": 19,
      "outputs": [
        {
          "output_type": "stream",
          "name": "stdout",
          "text": [
            "###############\n",
            "###############\n"
          ]
        }
      ]
    },
    {
      "cell_type": "markdown",
      "source": [
        "아버지와 어머니 그리고 삼촌에게 감사한 마음을 전하고 싶습니다. 아버지에게는 10만원, 어머니에게는 15만원, 삼촌에게는 \"감사합니다.\" 변수: _Father, _Mother, _Uncle"
      ],
      "metadata": {
        "id": "FRbKJTBTr2Fo"
      }
    },
    {
      "cell_type": "code",
      "source": [
        "_Father = 100000\n",
        "_Mother = 150000\n",
        "_Uncle = \"감사합니다.\"\n",
        "Thanks = _Father, _Mother, _uncle\n",
        "print(\"아버지=\", _Father,\"원\")\n",
        "print(\"어머니=\", _Mother,\"원\")\n",
        "print(\"삼촌=\", _Uncle)"
      ],
      "metadata": {
        "colab": {
          "base_uri": "https://localhost:8080/"
        },
        "id": "fSkip_m4nXkR",
        "outputId": "77a85bd4-4b69-404a-d92e-2fe85b1c4ba6"
      },
      "execution_count": 25,
      "outputs": [
        {
          "output_type": "stream",
          "name": "stdout",
          "text": [
            "아버지= 100000 원\n",
            "어머니= 150000 원\n",
            "삼촌= 감사합니다.\n"
          ]
        }
      ]
    },
    {
      "cell_type": "markdown",
      "source": [
        "변수의 규칙: 문자 또는 _로 시작(Father,father,_father), 문자, 숫자, _구성(Father69, father55, father_56), 공백 절대안된다. 안쓰는 것이 좋다. 특히 특수문자 절대 안된다.\n"
      ],
      "metadata": {
        "id": "wqHVTGplr88f"
      }
    },
    {
      "cell_type": "markdown",
      "source": [
        "FATHER, father, MOTHER, mother, _Father, _father, Keyword(True, False, for, while, if, continue, break, class...)"
      ],
      "metadata": {
        "id": "xlPLRkppsXc3"
      }
    },
    {
      "cell_type": "markdown",
      "source": [
        "숫자자료형= 숫자, 문자자료형 = 모든 문자들.."
      ],
      "metadata": {
        "id": "L-lmoQBPsYzH"
      }
    },
    {
      "cell_type": "code",
      "source": [
        "a = 2\n",
        "b = \"2\"\n",
        "c = a + int(b)\n",
        "print(c)"
      ],
      "metadata": {
        "colab": {
          "base_uri": "https://localhost:8080/"
        },
        "id": "Z28SJGobqvQH",
        "outputId": "b8ce6b12-315e-4d1d-9b33-c5c9ffffc24a"
      },
      "execution_count": 28,
      "outputs": [
        {
          "output_type": "stream",
          "name": "stdout",
          "text": [
            "4\n"
          ]
        }
      ]
    },
    {
      "cell_type": "markdown",
      "source": [
        "형변환 : 정수형을 변환할 때int(), 실수형으로 변환하고자 할 때 float(), 문자자료형으로 변환하고자 할 때 str() int(\"꽈배기\"), int(\"2.5\") 불가능 int(float(\"2.5\")) 가능\n"
      ],
      "metadata": {
        "id": "o80vN7n0sMPQ"
      }
    },
    {
      "cell_type": "markdown",
      "source": [
        "산술연산자 : + 더하기(print(4+3), - 빼기(print(2-1), * 곱하기(print(5+4), / 나누기(print(4/2), % 나머지(print(5%2), // 몫 (print(6//2), 거듭제곱(print4**2)"
      ],
      "metadata": {
        "id": "woeWicbdscUX"
      }
    }
  ]
}